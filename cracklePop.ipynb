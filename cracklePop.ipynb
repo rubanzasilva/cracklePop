{
  "nbformat": 4,
  "nbformat_minor": 0,
  "metadata": {
    "colab": {
      "provenance": [],
      "gpuType": "T4",
      "authorship_tag": "ABX9TyMHR4p2N0Zglqfu8ltpNYR0",
      "include_colab_link": true
    },
    "kernelspec": {
      "name": "python3",
      "display_name": "Python 3"
    },
    "language_info": {
      "name": "python"
    },
    "accelerator": "GPU"
  },
  "cells": [
    {
      "cell_type": "markdown",
      "metadata": {
        "id": "view-in-github",
        "colab_type": "text"
      },
      "source": [
        "<a href=\"https://colab.research.google.com/github/rubanzasilva/cracklePop/blob/main/cracklePop.ipynb\" target=\"_parent\"><img src=\"https://colab.research.google.com/assets/colab-badge.svg\" alt=\"Open In Colab\"/></a>"
      ]
    },
    {
      "cell_type": "code",
      "execution_count": 61,
      "metadata": {
        "id": "5QLmpBeZQGDu"
      },
      "outputs": [],
      "source": [
        "def cracklePop(x):\n",
        "  for x in range(1,101):\n",
        "\n",
        "    if x%3 == 0:\n",
        "      print('Crackle')\n",
        "\n",
        "    if x%5 == 0:\n",
        "      print('Pop')\n",
        "\n",
        "    if x%3 and x%5 == 0:\n",
        "      print('CrackePop')\n",
        "\n",
        "    else:\n",
        "      print(x)"
      ]
    },
    {
      "cell_type": "code",
      "source": [
        "cracklePop(100)"
      ],
      "metadata": {
        "colab": {
          "base_uri": "https://localhost:8080/"
        },
        "id": "78SkBM6dp6UN",
        "outputId": "18ac39d2-b0e6-42f8-f174-e0e73bb85a34"
      },
      "execution_count": 62,
      "outputs": [
        {
          "output_type": "stream",
          "name": "stdout",
          "text": [
            "1\n",
            "2\n",
            "Crackle\n",
            "3\n",
            "4\n",
            "Pop\n",
            "CrackePop\n",
            "Crackle\n",
            "6\n",
            "7\n",
            "8\n",
            "Crackle\n",
            "9\n",
            "Pop\n",
            "CrackePop\n",
            "11\n",
            "Crackle\n",
            "12\n",
            "13\n",
            "14\n",
            "Crackle\n",
            "Pop\n",
            "15\n",
            "16\n",
            "17\n",
            "Crackle\n",
            "18\n",
            "19\n",
            "Pop\n",
            "CrackePop\n",
            "Crackle\n",
            "21\n",
            "22\n",
            "23\n",
            "Crackle\n",
            "24\n",
            "Pop\n",
            "CrackePop\n",
            "26\n",
            "Crackle\n",
            "27\n",
            "28\n",
            "29\n",
            "Crackle\n",
            "Pop\n",
            "30\n",
            "31\n",
            "32\n",
            "Crackle\n",
            "33\n",
            "34\n",
            "Pop\n",
            "CrackePop\n",
            "Crackle\n",
            "36\n",
            "37\n",
            "38\n",
            "Crackle\n",
            "39\n",
            "Pop\n",
            "CrackePop\n",
            "41\n",
            "Crackle\n",
            "42\n",
            "43\n",
            "44\n",
            "Crackle\n",
            "Pop\n",
            "45\n",
            "46\n",
            "47\n",
            "Crackle\n",
            "48\n",
            "49\n",
            "Pop\n",
            "CrackePop\n",
            "Crackle\n",
            "51\n",
            "52\n",
            "53\n",
            "Crackle\n",
            "54\n",
            "Pop\n",
            "CrackePop\n",
            "56\n",
            "Crackle\n",
            "57\n",
            "58\n",
            "59\n",
            "Crackle\n",
            "Pop\n",
            "60\n",
            "61\n",
            "62\n",
            "Crackle\n",
            "63\n",
            "64\n",
            "Pop\n",
            "CrackePop\n",
            "Crackle\n",
            "66\n",
            "67\n",
            "68\n",
            "Crackle\n",
            "69\n",
            "Pop\n",
            "CrackePop\n",
            "71\n",
            "Crackle\n",
            "72\n",
            "73\n",
            "74\n",
            "Crackle\n",
            "Pop\n",
            "75\n",
            "76\n",
            "77\n",
            "Crackle\n",
            "78\n",
            "79\n",
            "Pop\n",
            "CrackePop\n",
            "Crackle\n",
            "81\n",
            "82\n",
            "83\n",
            "Crackle\n",
            "84\n",
            "Pop\n",
            "CrackePop\n",
            "86\n",
            "Crackle\n",
            "87\n",
            "88\n",
            "89\n",
            "Crackle\n",
            "Pop\n",
            "90\n",
            "91\n",
            "92\n",
            "Crackle\n",
            "93\n",
            "94\n",
            "Pop\n",
            "CrackePop\n",
            "Crackle\n",
            "96\n",
            "97\n",
            "98\n",
            "Crackle\n",
            "99\n",
            "Pop\n",
            "CrackePop\n"
          ]
        }
      ]
    },
    {
      "cell_type": "code",
      "source": [
        "print(cracklePop)"
      ],
      "metadata": {
        "colab": {
          "base_uri": "https://localhost:8080/"
        },
        "id": "c4VKm2yjdQnl",
        "outputId": "cf896ce3-339e-42bc-84eb-a11c82d28700"
      },
      "execution_count": 45,
      "outputs": [
        {
          "output_type": "stream",
          "name": "stdout",
          "text": [
            "<function cracklePop at 0x7d617e597be0>\n"
          ]
        }
      ]
    },
    {
      "cell_type": "code",
      "source": [
        "for x in range(1,101):\n",
        "\n",
        "    if x%3 == 0:\n",
        "      print('Crackle')\n",
        "\n",
        "    if x%5 == 0:\n",
        "      print('Pop')\n",
        "\n",
        "    if x%3 and x%5 == 0:\n",
        "      print('CrackePop')\n",
        "\n",
        "    else:\n",
        "      print(x)"
      ],
      "metadata": {
        "id": "krk-hZKooHIn"
      },
      "execution_count": null,
      "outputs": []
    },
    {
      "cell_type": "code",
      "source": [
        "for x in range(1,101):\n",
        "\n",
        "    if x%3 == 0:\n",
        "      return('Crackle')\n",
        "\n",
        "    if x%5 == 0:\n",
        "      return('Pop')\n",
        "\n",
        "    if x%3 and x%5 == 0:\n",
        "      return('CrackePop')\n",
        "\n",
        "    else:\n",
        "      return(x)"
      ],
      "metadata": {
        "colab": {
          "base_uri": "https://localhost:8080/",
          "height": 265
        },
        "id": "-JV1W9r1oYhM",
        "outputId": "642fffc4-c038-4e1d-98a7-8f338313a4fa"
      },
      "execution_count": 38,
      "outputs": [
        {
          "output_type": "error",
          "ename": "SyntaxError",
          "evalue": "ignored",
          "traceback": [
            "\u001b[0;36m  File \u001b[0;32m\"<ipython-input-37-4fc847d0ed35>\"\u001b[0;36m, line \u001b[0;32m4\u001b[0m\n\u001b[0;31m    return('Crackle')\u001b[0m\n\u001b[0m    ^\u001b[0m\n\u001b[0;31mSyntaxError\u001b[0m\u001b[0;31m:\u001b[0m 'return' outside function\n"
          ]
        },
        {
          "output_type": "error",
          "ename": "SyntaxError",
          "evalue": "ignored",
          "traceback": [
            "\u001b[0;36m  File \u001b[0;32m\"<ipython-input-38-4fc847d0ed35>\"\u001b[0;36m, line \u001b[0;32m4\u001b[0m\n\u001b[0;31m    return('Crackle')\u001b[0m\n\u001b[0m    ^\u001b[0m\n\u001b[0;31mSyntaxError\u001b[0m\u001b[0;31m:\u001b[0m 'return' outside function\n"
          ]
        }
      ]
    },
    {
      "cell_type": "code",
      "source": [
        "\"\"\"\n",
        "        A program that prints out the numbers 1 to 100 (inclusive).\n",
        "        If the number is divisible by 3, print Crackle instead of the number.\n",
        "        If it's divisible by 5, print Pop.\n",
        "        If it's divisible by both 3 and 5, print CracklePop.\n",
        "\"\"\"\n",
        "for number in range(1, 101):\n",
        "        if number % 15 == 0:\n",
        "                print (\"CracklePop\")\n",
        "                continue\n",
        "        elif number % 3 == 0:\n",
        "                print (\"Crackle\")\n",
        "                continue\n",
        "        elif number % 5 == 0:\n",
        "                print (\"Pop\")\n",
        "                continue\n",
        "        else: print(number)"
      ],
      "metadata": {
        "colab": {
          "base_uri": "https://localhost:8080/"
        },
        "id": "FXPsoi-WdTLn",
        "outputId": "07eb9d7d-ffd5-4255-fa98-5a4f1d351e6d"
      },
      "execution_count": 23,
      "outputs": [
        {
          "output_type": "stream",
          "name": "stdout",
          "text": [
            "1\n",
            "2\n",
            "Crackle\n",
            "4\n",
            "Pop\n",
            "Crackle\n",
            "7\n",
            "8\n",
            "Crackle\n",
            "Pop\n",
            "11\n",
            "Crackle\n",
            "13\n",
            "14\n",
            "CracklePop\n",
            "16\n",
            "17\n",
            "Crackle\n",
            "19\n",
            "Pop\n",
            "Crackle\n",
            "22\n",
            "23\n",
            "Crackle\n",
            "Pop\n",
            "26\n",
            "Crackle\n",
            "28\n",
            "29\n",
            "CracklePop\n",
            "31\n",
            "32\n",
            "Crackle\n",
            "34\n",
            "Pop\n",
            "Crackle\n",
            "37\n",
            "38\n",
            "Crackle\n",
            "Pop\n",
            "41\n",
            "Crackle\n",
            "43\n",
            "44\n",
            "CracklePop\n",
            "46\n",
            "47\n",
            "Crackle\n",
            "49\n",
            "Pop\n",
            "Crackle\n",
            "52\n",
            "53\n",
            "Crackle\n",
            "Pop\n",
            "56\n",
            "Crackle\n",
            "58\n",
            "59\n",
            "CracklePop\n",
            "61\n",
            "62\n",
            "Crackle\n",
            "64\n",
            "Pop\n",
            "Crackle\n",
            "67\n",
            "68\n",
            "Crackle\n",
            "Pop\n",
            "71\n",
            "Crackle\n",
            "73\n",
            "74\n",
            "CracklePop\n",
            "76\n",
            "77\n",
            "Crackle\n",
            "79\n",
            "Pop\n",
            "Crackle\n",
            "82\n",
            "83\n",
            "Crackle\n",
            "Pop\n",
            "86\n",
            "Crackle\n",
            "88\n",
            "89\n",
            "CracklePop\n",
            "91\n",
            "92\n",
            "Crackle\n",
            "94\n",
            "Pop\n",
            "Crackle\n",
            "97\n",
            "98\n",
            "Crackle\n",
            "Pop\n"
          ]
        }
      ]
    },
    {
      "cell_type": "code",
      "source": [],
      "metadata": {
        "id": "9sBYU62lnGWh"
      },
      "execution_count": null,
      "outputs": []
    }
  ]
}